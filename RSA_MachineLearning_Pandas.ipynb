{
  "cells": [
    {
      "cell_type": "code",
      "execution_count": null,
      "metadata": {
        "id": "u0mVulew6-dU"
      },
      "outputs": [],
      "source": [
        "import numpy as np\n",
        "import matplotlib.pyplot as plt\n",
        "import pandas as pd\n",
        "import pickle"
      ]
    },
    {
      "cell_type": "code",
      "execution_count": null,
      "metadata": {
        "colab": {
          "base_uri": "https://localhost:8080/"
        },
        "id": "vDaGV0d67KPZ",
        "outputId": "29b92ccf-3745-48b7-ea35-bcb38b750cff"
      },
      "outputs": [
        {
          "output_type": "stream",
          "name": "stdout",
          "text": [
            "                                     id                type  \\\n",
            "0  5d912794-6a5b-11ed-96df-00155dee685c  theft from vehicle   \n",
            "1  5d91492c-6a5b-11ed-96df-00155dee685c  theft from vehicle   \n",
            "2  5d9153ae-6a5b-11ed-96df-00155dee685c  theft from vehicle   \n",
            "3  5d915c8c-6a5b-11ed-96df-00155dee685c  theft from vehicle   \n",
            "4  5d91663c-6a5b-11ed-96df-00155dee685c  theft from vehicle   \n",
            "\n",
            "                       timestamp  year  month  day  hour  minute  \\\n",
            "0  2003-02-05T23:00:00.000-08:00  2003      2    5    23       0   \n",
            "1  2015-11-05T05:57:00.000-08:00  2015     11    5     5      57   \n",
            "2  2004-09-26T18:00:00.000-07:00  2004      9   26    18       0   \n",
            "3  2010-12-15T08:00:00.000-08:00  2010     12   15     8       0   \n",
            "4  2016-06-03T14:30:00.000-07:00  2016      6    3    14      30   \n",
            "\n",
            "               neighbourhood  x_neighbourhood  y_neighbourhood hundred_block  \\\n",
            "0                    marpole         49.25430       -123.13563    w 71st ave   \n",
            "1                   fairview         49.24621       -123.16126     w 7th ave   \n",
            "2  central business district         49.27759       -123.04392  w cordova st   \n",
            "3  central business district         49.27759       -123.04392  w georgia st   \n",
            "4                   west end         49.26333       -123.09659  w georgia st   \n",
            "\n",
            "           x          y  \n",
            "0  49.207012 -123.13401  \n",
            "1  49.265194 -123.13140  \n",
            "2  49.289906 -123.12372  \n",
            "3  49.287567 -123.12590  \n",
            "4  49.287155 -123.12545  \n"
          ]
        }
      ],
      "source": [
        "df = pd.read_csv(\"CrimeData3.csv\")\n",
        "print(df.head())"
      ]
    },
    {
      "cell_type": "code",
      "source": [
        "df = df[['year','month','day','hour','minute','hundred_block', 'x_neighbourhood', 'y_neighbourhood','x','y','type', 'neighbourhood']]\n",
        "print(df['type'].nunique())"
      ],
      "metadata": {
        "colab": {
          "base_uri": "https://localhost:8080/"
        },
        "id": "iKmm2oMFFRo4",
        "outputId": "5646e096-2b8a-4847-b747-928b812d69a7"
      },
      "execution_count": null,
      "outputs": [
        {
          "output_type": "stream",
          "name": "stdout",
          "text": [
            "9\n"
          ]
        }
      ]
    },
    {
      "cell_type": "code",
      "execution_count": null,
      "metadata": {
        "colab": {
          "base_uri": "https://localhost:8080/"
        },
        "id": "A5mmWGhr7gZ-",
        "outputId": "09434b67-da0f-4116-f3f3-bd9bf2ddc6cd"
      },
      "outputs": [
        {
          "output_type": "stream",
          "name": "stdout",
          "text": [
            "        year  month  day  hour  minute hundred_block  x_neighbourhood  \\\n",
            "0       2003      2    5    23       0    w 71st ave         49.25430   \n",
            "1       2015     11    5     5      57     w 7th ave         49.24621   \n",
            "2       2004      9   26    18       0  w cordova st         49.27759   \n",
            "3       2010     12   15     8       0  w georgia st         49.27759   \n",
            "4       2016      6    3    14      30  w georgia st         49.26333   \n",
            "...      ...    ...  ...   ...     ...           ...              ...   \n",
            "364200  2008      7    3    10      37     nk_loc st         49.24744   \n",
            "364201  2012      5   27    16       0     nk_loc st         49.24744   \n",
            "364202  2014      7    7     4       0     nk_loc st         49.24744   \n",
            "364203  2014      9   10    16       0     nk_loc st         49.24744   \n",
            "364204  2021      6   26    19       0     nk_loc st         49.24744   \n",
            "\n",
            "        y_neighbourhood          x          y              target  \\\n",
            "0            -123.13563  49.207012 -123.13401  theft from vehicle   \n",
            "1            -123.16126  49.265194 -123.13140  theft from vehicle   \n",
            "2            -123.04392  49.289906 -123.12372  theft from vehicle   \n",
            "3            -123.04392  49.287567 -123.12590  theft from vehicle   \n",
            "4            -123.09659  49.287155 -123.12545  theft from vehicle   \n",
            "...                 ...        ...        ...                 ...   \n",
            "364200       -123.10297  49.281845 -123.09958         other theft   \n",
            "364201       -123.10297  49.281845 -123.09958         other theft   \n",
            "364202       -123.10297  49.281845 -123.09958         other theft   \n",
            "364203       -123.10297  49.281845 -123.09958         other theft   \n",
            "364204       -123.10297  49.281845 -123.09958         other theft   \n",
            "\n",
            "                    neighbourhood  \n",
            "0                         marpole  \n",
            "1                        fairview  \n",
            "2       central business district  \n",
            "3       central business district  \n",
            "4                        west end  \n",
            "...                           ...  \n",
            "364200                 strathcona  \n",
            "364201                 strathcona  \n",
            "364202                 strathcona  \n",
            "364203                 strathcona  \n",
            "364204                 strathcona  \n",
            "\n",
            "[253308 rows x 12 columns]\n"
          ]
        },
        {
          "output_type": "execute_result",
          "data": {
            "text/plain": [
              "theft from vehicle    113776\n",
              "other theft            90118\n",
              "mischief               49414\n",
              "Name: target, dtype: Int64"
            ]
          },
          "metadata": {},
          "execution_count": 305
        }
      ],
      "source": [
        "df = df[['year','month','day','hour','minute','hundred_block', 'x_neighbourhood', 'y_neighbourhood', 'x','y','type', 'neighbourhood']]\n",
        "crime_df = df.rename(columns = {\"type\": \"target\"})\n",
        "crime_df['target'] = crime_df['target'].astype('string')\n",
        "crime_df['neighbourhood'] = crime_df['neighbourhood'].astype('string')\n",
        "crime_df['hundred_block'] = crime_df['hundred_block'].astype('string')\n",
        "\n",
        "crime_df = crime_df.loc[(crime_df['hundred_block']!='NaN')]\n",
        "crime_df = crime_df.loc[(crime_df['hundred_block']!='NaN')]\n",
        "crime_df = crime_df.loc[(crime_df['target']!='theft of vehicle')]\n",
        "# crime_df = crime_df.loc[(crime_df['target']!='other theft')]\n",
        "crime_df = crime_df.loc[(crime_df['target']!='theft of bicycle')]\n",
        "crime_df = crime_df.loc[(crime_df['target']!='vehicle collision or pedestrian struck (with injury)')]\n",
        "crime_df = crime_df.loc[(crime_df['target']!='vehicle collision or pedestrian struck (with fatality)')]\n",
        "crime_df = crime_df.loc[(crime_df['target']!='break and enter commercial')]\n",
        "crime_df = crime_df.loc[(crime_df['target']!='break and enter residential/other')]\n",
        "crime_df = crime_df.loc[(crime_df['x']!=0)]\n",
        "crime_df = crime_df.loc[(crime_df['y']!=0)]\n",
        "print(crime_df)\n",
        "crime_df['target'].value_counts()"
      ]
    },
    {
      "cell_type": "code",
      "execution_count": null,
      "metadata": {
        "colab": {
          "base_uri": "https://localhost:8080/"
        },
        "id": "4xR0y1mk8bCV",
        "outputId": "ebff7df1-51cc-4aa1-86c6-6ac1a89edd4a"
      },
      "outputs": [
        {
          "output_type": "stream",
          "name": "stdout",
          "text": [
            "<class 'pandas.core.frame.DataFrame'>\n",
            "Int64Index: 253308 entries, 0 to 364204\n",
            "Data columns (total 12 columns):\n",
            " #   Column           Non-Null Count   Dtype  \n",
            "---  ------           --------------   -----  \n",
            " 0   year             253308 non-null  int64  \n",
            " 1   month            253308 non-null  int64  \n",
            " 2   day              253308 non-null  int64  \n",
            " 3   hour             253308 non-null  int64  \n",
            " 4   minute           253308 non-null  int64  \n",
            " 5   hundred_block    253308 non-null  string \n",
            " 6   x_neighbourhood  253308 non-null  float64\n",
            " 7   y_neighbourhood  253308 non-null  float64\n",
            " 8   x                253308 non-null  float64\n",
            " 9   y                253308 non-null  float64\n",
            " 10  target           253308 non-null  string \n",
            " 11  neighbourhood    253308 non-null  string \n",
            "dtypes: float64(4), int64(5), string(3)\n",
            "memory usage: 25.1 MB\n"
          ]
        },
        {
          "output_type": "execute_result",
          "data": {
            "text/plain": [
              "theft from vehicle    113776\n",
              "other theft            90118\n",
              "mischief               49414\n",
              "Name: target, dtype: Int64"
            ]
          },
          "metadata": {},
          "execution_count": 306
        }
      ],
      "source": [
        "crime_df.info()\n",
        "crime_df['target'].value_counts()\n",
        "# crime_df.loc[(0 <= df['hour']) & (df['hour'] <= 6),\"hour\"] = 0\n",
        "# crime_df.loc[(7 <= df['hour']) & (df['hour'] <= 12),\"hour\"] = 1\n",
        "# crime_df.loc[(13 <= df['hour']) & (df['hour'] <= 18),\"hour\"] = 2\n",
        "# crime_df.loc[(19 <= df['hour']) & (df['hour'] <= 23),\"hour\"] = 3"
      ]
    },
    {
      "cell_type": "code",
      "execution_count": null,
      "metadata": {
        "colab": {
          "base_uri": "https://localhost:8080/"
        },
        "id": "cvVnEZrsOdF_",
        "outputId": "996db468-d9bb-473c-e6c8-8a764d334236"
      },
      "outputs": [
        {
          "output_type": "stream",
          "name": "stdout",
          "text": [
            "False\n",
            "False\n"
          ]
        }
      ],
      "source": [
        "print((crime_df['x']==0).any())\n",
        "print((crime_df['y']==0).any())"
      ]
    },
    {
      "cell_type": "code",
      "execution_count": null,
      "metadata": {
        "colab": {
          "base_uri": "https://localhost:8080/"
        },
        "id": "Dz6anVVY9b_Z",
        "outputId": "5bf1022d-ad7d-4f9d-d661-7cfb427dc302"
      },
      "outputs": [
        {
          "output_type": "stream",
          "name": "stdout",
          "text": [
            "{'theft from vehicle': 2, 'mischief': 0, 'other theft': 1}\n",
            "{'marpole': 10, 'fairview': 3, 'central business district': 1, 'west end': 22, 'hastings-sunrise': 5, 'west point grey': 23, 'mount pleasant': 11, 'kensington-cedar cottage': 6, 'sunset': 20, 'shaughnessy': 16, 'oakridge': 13, 'kitsilano': 9, 'grandview-woodland': 4, 'strathcona': 19, 'victoria-fraserview': 21, 'stanley park': 18, 'kerrisdale': 7, 'riley park': 15, 'arbutus ridge': 0, 'renfrew-collingwood': 14, 'killarney': 8, 'dunbar-southlands': 2, 'south cambie': 17, 'musqueam': 12}\n",
            "{'w 71st ave': 1118, 'w 7th ave': 1124, 'w cordova st': 1130, 'w georgia st': 1131, 'w hastings st': 1132, 'alberni st': 85, 'barclay st': 139, 'boundary rd': 182, 'burnaby st': 203, 'cartwright st': 230, 'discovery st': 329, 'e 15th ave': 355, 'e 26th ave': 367, 'e 29th ave': 370, 'e 64th ave': 409, 'e kent n ave': 423, 'haro st': 531, 'howe st': 559, 'johnston st': 592, 'pacific blvd': 810, 'pendrell st': 823, 'quebec st': 857, 'robson st': 886, 'w 13th ave': 1054, 'w 15th ave': 1056, 'w 26th ave': 1068, 'w 54th ave': 1099, 'w 73rd ave': 1120, 'walnut st': 1147, 'adanac st': 80, 'anderson st': 99, 'chestnut st': 254, 'clark dr': 264, 'e 41st ave': 384, 'frances st': 480, 'harwood st': 535, 'kingsway ave': 613, 'old bridge st': 799, 'victoria dr': 1043, 'w 12th ave': 1053, 'w 14th ave': 1055, 'w 47th ave': 1091, 'w 70th ave': 1117, 'duranleau st': 348, 'e 12th ave': 352, 'e 14th ave': 354, 'e 4th ave': 393, 'e 58th ave': 402, 'e 61st ave': 406, 'mariner walk': 693, 'stanley park dr': 974, 'sw marine dr': 989, 'w 32nd ave': 1075, 'w broadway ave': 1128, 'w pender st': 1138, 'bayshore dr': 143, 'cypress st': 318, 'e 55th ave': 399, 'grant st': 512, 'parker st': 818, 'renfrew st': 875, 'w 1st ave': 1062, 'w 59th ave': 1104, 'w 8th ave': 1126, 'whyte ave': 1177, 'comox st': 284, 'davie st': 320, 'e 33rd ave': 375, 'e 34th ave': 376, 'e 3rd ave': 382, 'kamloops st': 595, 'nelson st': 780, 'prestwick dr': 844, 'w 60th ave': 1106, 'e 10th ave': 350, 'e 11th ave': 351, 'e 63rd ave': 408, 'lakewood dr': 629, 'mclean dr': 718, 'spyglass pl': 962, 'venables st': 1041, 'w 17th ave': 1059, 'w 5th ave': 1105, 'w 64th ave': 1110, 'creelman ave': 308, 'dunbar st': 342, 'e 2nd ave': 371, 'e 6th ave': 414, 'highbury st': 550, 'upland dr': 1037, 'w 11th ave': 1052, 'w 4th ave': 1094, 'e 7th ave': 415, 'alexander st': 91, 'drake st': 334, 'e 27th ave': 368, 'e 28th ave': 369, 'e 46th ave': 389, 'e cordova st': 418, 'e hastings st': 420, 'keefer st': 599, 'milross ave': 735, 'national ave': 778, 'w 22nd ave': 1065, 'walter hardwick ave': 1148, 'water st': 1150, 'beach ave': 146, 'columbia st': 278, 'e 36th ave': 378, 'e 45th ave': 388, 'nanaimo st': 771, 'w 43rd ave': 1087, 'w 46th ave': 1090, 'york ave': 1194, 'dundas st': 343, 'e kent s ave': 424, 'stainsbury ave': 969, 'w 21st ave': 1064, 'w 36th ave': 1079, 'w 38th ave': 1081, 'w 39th ave': 1082, 'w 3rd ave': 1083, 'burrard st': 205, 'cambie st': 214, 'e 18th ave': 358, 'w 20th ave': 1063, 'w 6th ave': 1116, 'william st': 1178, 'fraserview dr': 484, 'scotia st': 919, 'st catherines st': 963, 'balaclava st': 133, 'e 49th ave': 392, 'grandview hwy n': 509, 'ontario st': 803, 'st lawrence st': 966, 'trafalgar st': 1024, 'w 2nd ave': 1072, 'waverley ave': 1155, 'windsor st': 1182, 'yew st': 1192, 'brock st': 195, 'charles st': 247, 'e 19th ave': 359, 'e 22nd ave': 363, 'e pender st': 426, 'kitchener st': 616, 'oak st': 794, 'pandora st': 814, 'pine st': 833, 'triumph st': 1028, 'w 10th ave': 1051, 'wall st': 1144, 'waterloo st': 1152, 'willow st': 1179, 'ash st': 120, 'cranberry dr': 305, 'e 20th ave': 361, 'e 5th ave': 404, 'e georgia st': 419, 'larch st': 637, 'main st': 675, 'prince edward st': 847, 'trinity st': 1027, 'commercial dr': 279, 'cooperative way': 289, 'e 54th ave': 398, 'garden dr': 492, 'graveley st': 517, 'rupert st': 901, 'sophia st': 952, 'w 18th ave': 1060, 'bentall st': 159, 'e 1st ave': 360, 'e 24th ave': 365, 'turner st': 1033, 'e 43rd ave': 386, 'nootka st': 788, 'school ave': 917, 'w 34th ave': 1077, 'w 41st ave': 1085, 'woodland dr': 1185, 'abbott st': 77, 'alvin narod mews': 96, 'carrall st': 226, 'granville st': 515, 'n nanaimo st': 762, 'n templeton dr': 767, 'prior st': 849, 'e 51st ave': 395, 'yukon st': 1196, 'collingwood st': 277, 'dieppe dr': 326, 'grandview hwy': 508, 'three cedars dr': 1012, 'matapan cres': 704, 'rosemont dr': 893, 'anzio dr': 104, 'se marine dr': 920, 'crowley dr': 312, 'fraser st': 483, 'slocan st': 946, 'w 29th ave': 1071, 'w 37th ave': 1080, 'welwyn st': 1159, 'corsica way': 301, 'e 47th ave': 390, 'foster ave': 476, 'gladstone st': 500, 'heather st': 540, 'vanness ave': 1040, 'w 24th ave': 1067, 'cameron ave': 217, 'commercial st': 281, 'franklin st': 481, 'inverness st': 572, 'w 50th ave': 1095, 'arbutus st': 113, 'e broadway ave': 417, 'smithe st': 948, 'dunsmuir st': 346, 'e 16th ave': 356, 'e 37th ave': 379, 'e 53rd ave': 397, 'heatley ave': 541, 'homer st': 555, 'jackson ave': 579, 'n windermere st': 769, 'powell st': 842, 'w 33rd ave': 1076, 'w 35th ave': 1078, 'penticton st': 825, 'w 16th ave': 1058, 'laurel st': 639, 'locarno cres': 658, 'perry st': 827, 'puget dr': 851, 'w 9th ave': 1127, 'elgin st': 444, 'moss st': 748, 'haggart st': 526, 'gothard st': 507, 'nw marine dr': 793, 'selkirk st': 927, 'culloden st': 315, 'duchess st': 336, 'w king edward ave': 1137, 'aubrey pl': 127, 'broughton st': 198, 'campbell ave': 219, 'dunlevy ave': 345, 'e 60th ave': 405, 'hamilton st': 529, 'seymour st': 933, 'w 28th ave': 1070, 'w 40th ave': 1084, 'w waterfront rd': 1139, 'aberdeen st': 78, 'gaston st': 493, 'joyce st': 593, 'east blvd': 432, 'fairmont st': 458, 'rhodes st': 876, 'dundee st': 344, 'vine st': 1046, 'elm st': 448, 'olympic st': 801, 'stamford st': 970, 'fleming st': 472, 'cree st': 306, 'hudson st': 562, 'lincoln st': 653, 'beatrice st': 150, 'earles st': 429, 'e 13th ave': 353, 'midlothian ave': 728, 'stanley park cswy': 973, 'beatty st': 151, 'denman st': 324, 'e 57th ave': 401, 'glen dr': 501, 'hornby st': 557, 'moberly rd': 738, 'pipeline rd': 836, 'richards st': 877, 'taylor st': 1000, 'carnarvon st': 224, 'knight st': 620, 'vivian st': 1050, 'angus dr': 101, 'chester st': 253, 'prince albert st': 846, 'berkeley st': 162, 'dumfries st': 339, 'marguerite st': 689, 'beechwood st': 154, 'clarendon st': 263, 'dawson st': 321, 'lanark st': 632, 'butler st': 211, 'killarney st': 608, 'osler st': 807, 'elliott st': 447, 'keefer pl': 598, 'citadel prde': 260, 'e 17th ave': 357, 'expo blvd': 456, 'malkin ave': 678, 'adera st': 81, 'ash cres': 119, 'blenheim st': 171, 'french st': 487, 'chilco st': 257, 'durward ave': 349, 'e 52nd ave': 396, 'sawyers lane': 913, 'thurlow st': 1014, 'montcalm st': 743, 'st george st': 965, 'aegean cres': 82, 'cartier st': 229, 'shaughnessy st': 935, 'avison way': 130, 'e 56th ave': 400, 'pacific st': 812, 'union st': 1036, 'canada pl': 220, 'e 50th ave': 394, 'jervis st': 590, 'lameys mill rd': 631, 'mainland st': 676, 'raymur ave': 870, 'w 58th ave': 1103, 'aisne st': 83, 'alberta st': 86, 'balsam st': 138, 'brunswick st': 200, 'bute st': 210, 'central st': 240, 'champlain cres': 244, 'cheyenne ave': 255, 'clive ave': 267, 'e 44th ave': 387, 'e 8th ave': 416, 'euclid ave': 452, 'gore ave': 506, 'hawks ave': 538, 'helmcken st': 543, 'macdonald st': 668, 'maple st': 686, 'athletes way': 122, 'nk_loc st': 787, 'nicola st': 785, 'strathmore mews': 986, 'e 31st ave': 373, 'manitoba st': 681, 'w 68th ave': 1114, 'nassau dr': 776, 'cornwall ave': 300, 'greer ave': 521, 'lorne st': 661, 'harrison dr': 534, 'kootenay st': 623, 'stephens st': 980, 'w 61st ave': 1107, 'wallace st': 1146, 'princess ave': 848, 'roundhouse mews': 896, 'w 63rd ave': 1109, 'semlin dr': 929, 'tolmie st': 1022, 'e 35th ave': 377, 'mcmullen ave': 719, 'bonnyvale ave': 178, 'marstrand ave': 702, 'w 45th ave': 1089, 'yewbrook pl': 1193, 'e 23rd ave': 364, 'fir st': 470, 'sasamat st': 910, 'eton st': 451, 'norquay st': 790, 'cambridge st': 216, 'carolina st': 225, 'guelph st': 524, 'alma st': 95, 'e 38th ave': 380, 'e woodstock ave': 428, 'commissioner st': 282, 'e 21st ave': 362, 'kings ave': 611, 'marmion ave': 697, 'napier st': 773, 'archimedes st': 114, 'marquette cres': 700, 'miller dr': 731, 'deering island pl': 323, 'porter st': 839, 'yardley ave': 1191, 'mcgill st': 713, 'oxford st': 808, 'w 23rd ave': 1066, 'w 42nd ave': 1086, 'coquihalla dr': 293, 'e 48th ave': 391, 'point grey rd': 837, 'w 31st ave': 1074, 'kaslo st': 596, 'w 19th ave': 1061, 'railway st': 865, 'salish dr': 906, 'atlin st': 126, 'harriet st': 533, 'e king edward ave': 425, 'w 49th ave': 1093, 'walden st': 1141, 'mchardy st': 715, 'ormidale st': 805, 'sherbrooke st': 937, 'churchill st': 259, 'kerr st': 603, 'atlantic st': 124, 'w 57th ave': 1102, 'wheelhouse sq': 1175, 'glendalough pl': 503, 'wiltshire st': 1180, 'bruce st': 199, 'arlington st': 117, 'raleigh st': 867, 'doman st': 331, 'fellowes st': 465, 'vivian dr': 1049, 'wales st': 1142, 'beadnell crt': 148, 'e 39th ave': 381, 'great northern way': 518, 'millyard st': 734, 'templeton dr': 1003, 'terminal ave': 1004, 'nunavut lane': 792, 'poplar st': 838, 'laburnum st': 626, 'crompton st': 310, 'jellicoe st': 583, 'barnard st': 140, 'fremlin st': 486, 'lagoon dr': 627, 'station st': 977, 'w 62nd ave': 1108, 'cassiar st': 232, 'e 40th ave': 383, 'beach cres': 147, 'e 62nd ave': 407, 'mackenzie st': 670, 'marine cres': 691, 'odlum dr': 797, 'spruce st': 961, 'w kent ave n': 1133, 'rolston st': 889, 'vernon dr': 1042, 'coal harbour quay': 269, 'henshaw lane': 547, 'mcnicoll ave': 720, 'w 52nd ave': 1097, 'w 48th ave': 1092, 'e 32nd ave': 374, 'wenonah st': 1160, 'second narrows brdg': 925, 'grandview hwy s': 510, 'chandlery pl': 246, 'e kent ave s': 422, 'birch st': 165, 'natal st': 777, '298e e 54th ave': 37, 'austrey ave': 128, 'findlay st': 469, 'wellington ave': 1158, 'church st': 258, 'e 25th ave': 366, 'seaforth dr': 921, 'ascot pl': 118, 'copley st': 292, 'lougheed hwy': 664, 'hull st': 563, 'normandy dr': 789, 'skana dr': 943, 'clancy loranger way': 262, 'valley dr': 1039, 'connaught dr': 285, 'chatham st': 249, 'ross st': 894, 'college st': 275, 'harold st': 532, 'battison st': 141, 'cardero st': 222, 'holland st': 552, 'brooks st': 197, 'pinehurst dr': 834, 'bucketwheel ave': 201, 'leg in boot sq': 644, 'mont royal sq': 742, 'west blvd': 1164, 'talon sq': 994, 'sparbrook cres': 957, 'e 59th ave': 403, 'griffiths way': 522, 'millbank st': 730, 'n lagoon dr': 760, 'cooperage way': 288, 'e 30th ave': 372, 'gilford st': 499, 'commodore rd': 283, 'cottrell st': 303, 'mcrae ave': 721, 'n renfrew st': 764, 'stanley park drive': 975, 'smithe mews': 947, 'w 76th ave': 1122, 'cedar cottage mews': 234, 'nanton ave': 772, 'w 75th ave': 1121, 'hosmer ave': 558, 'mannering ave': 682, 'briar ave': 189, 'newport ave': 784, 'bonaccord dr': 177, 'bobolink ave': 176, 'lynbrook dr': 666, 'alamein ave': 84, 'alder st': 90, 'hebb ave': 542, 'horley st': 556, 'trutch st': 1030, 'w 44th ave': 1088, 'bridgeway st': 191, 'dartmoor pl': 319, 'nairn ave': 770, 'terra vita pl': 1005, 'petersham ave': 828, 'worthington dr': 1186, 'monmouth ave': 740, 'scales pl': 914, 'greensboro pl': 520, 'industrial ave': 570, 'maple cres': 685, 'staulo cres': 978, 'john st': 591, 'james st': 580, 'eldorado mews': 443, 'camosun st': 218, 'ann st': 102, 'argyle st': 116, 'st margarets st': 967, 'evans ave': 453, 'salsbury dr': 907, 'w 27th ave': 1069, 'echo pl': 437, 'w 69th ave': 1115, 'cornerstone st': 297, 'park dr': 816, 'arbutus dvrs': 110, 'avison wy': 131, 'balfour ave': 135, 'bidwell st': 164, 'reid st': 874, 'creekside dr': 307, 'w 56th ave': 1101, 'laurier ave': 640, 'matthews ave': 706, 'w 66th ave': 1112, 'western st': 1172, 'bayswater st': 145, 'burquitlam dr': 204, 'mcbain ave': 710, 'yale st': 1190, 'hemlock st': 544, 'e 42nd ave': 385, 'golden link cres': 505, 'cobblestone ave': 272, 'fieldstone ave': 467, 'w 53rd ave': 1098, 'windermere st': 1181, 'meares ave': 724, 'tanner st': 997, 'alice st': 94, 'musqueam cls': 752, 'parkway dr': 819, 'payne st': 822, 'spencer st': 959, 'tyne st': 1034, 'w 30th ave': 1073, 'kirkland st': 615, 'tantalus lane': 998, 'tisdall st': 1016, 'blake st': 167, 'lost lagoon rd': 663, 'scarboro ave': 916, 'continental st': 286, 'marinaside cres': 690, 'cook st': 287, 'mcspadden ave': 722, 'linden rd': 654, 'aquarius mews': 107, 'switchmen st': 992, 'ferndale st': 466, 'lillooet st': 649, 'keith dr': 600, 'watson st': 1154, 'n garden dr': 756, 'queens ave': 858, 'maquinna dr': 687, 'mcintyre dr': 716, 'naples way': 774, 'price st': 845, 'jericho circ': 587, 'mohawk st': 739, 'skeena st': 944, 'mcgeer st': 712, 'chambers st': 242, 'highgate st': 551, 'hoy st': 560, 'cecil st': 233, 'east boulevard': 433, 'senlac st': 930, 'fairchild rd': 457, '70o w broadway ave': 71, 'w 67th ave': 1113, 'bridgeway': 190, 'georgia viaduct': 497, 'w 55th ave': 1100, 'pennyfarthing dr': 824, 'morton ave': 746, 'dieppe pl': 327, 'ontario pl': 802, 'salal dr': 905, 'e kent ave n': 421, 'quesnel dr': 859, 'marshall st': 701, 'city edge pl': 261, 'rae ave': 863, 'springtree dr': 960, 'nigel ave': 786, 'talisman ave': 993, 'balkan st': 136, 'drummond dr': 335, 'bursill st': 208, 'elizabeth st': 445, 'stirling st': 983, 'w 65th ave': 1111, 'e 65th ave': 410, 'market hill': 695, 'muirfield dr': 749, 'haig st': 528, 'beaver lake tr': 153, 'coal harbour swlk': 271, 'joyce station loop': 594, 'pine cres': 832, 'shanghai ally': 934, 'fountain way': 478, 'avery ave': 129, 'rand ave': 868, 'marpole ave': 699, 'quilchena cres': 860, 'ancaster cres': 98, 'duke st': 338, 'ivanhoe st': 578, 'vimy cres': 1045, 'cordiale dr': 295, 'moscrop st': 747, 'miller st': 732, 'sidney st': 941, 'crown cres': 313, 'little st': 657, 'manor st': 683, 'ruby st': 898, 'baillie st': 132, 'crown st': 314, 'frontenac st': 488, 'lancaster st': 634, 'stamps land': 971, 'neon st': 781, 'tidewater pl': 1015, 'georgia via': 496, 'tupper st': 1032, 'qualicum dr': 854, 'southside dr': 956, '2241a granville st': 32, 'w 51st ave': 1096, 'celtic ave': 238, 'cherry st': 251, 'glendale st': 502, 'musqueam dr': 753, 'somerville st': 950, 'oben st': 796, 'melbourne st': 725, 'n penticton st': 763, 'frederick st': 485, 'jasper cres': 582, 'curate wynd': 316, 'anglers pl': 100, 'greenchain st': 519, 'island park walk': 577, 'hermon dr': 548, 'hoylake ave': 561, 'rosedale dr': 891, 'ward st': 1149, 'falaise ave': 460, 'swallow pl': 990, 'hennepin ave': 545, 'maxwell st': 708, 'yuculta cres': 1195, 'athlone st': 123, 'cedarhurst st': 236, 'mccleery st': 711, 'whithorn crt': 1176, 'kokanee pl': 622, 'cornish st': 299, 'crowe st': 311, 'humm st': 566, 'mckinnon st': 717, 'pan pacific hotel 999th canada place': 813, 'w 72nd ave': 1119, 'roxburgh cres': 897, 'cedar cres': 235, 'bauer st': 142, 'n kamloops st': 757, 'hum lu sum dr': 564, 'quatsino dr': 855, 'matheson cres': 705, 'thornhill dr': 1010, 'alder crss': 89, 'blanca st': 168, 'west end': 1167, 'seymour mews': 932, 'cotton dr': 302, 'granville street brdg': 516, 'w woodstock ave': 1140, 'sotao ave': 953, 'virtual way': 1047, 'riverwalk ave': 884, 'clermont mews': 266, 'mayfair ave': 709, 'brant st': 188, 'picton st': 830, 'todd st': 1018, 'paton st': 821, 'leg-in-boot sq': 645, 'borden st': 179, 'arbutus greenway': 111, 'island ave': 576, 'mast tower rd': 703, 'n slocan st': 766, 'regiment sq': 873, 'oliver cres': 800, 'coleridge ave': 273, 'winlaw pl': 1183, 'sparrow pl': 958, 'e waterfront rd': 427, 'taunton st': 999, 'radisson st': 862, 'baldwin st': 134, 'cornett rd': 298, 'grandview via': 511, 'lily st': 650, 'saint john paul ii way': 903, 'birch walk': 166, 'trimble st': 1026, 'southern st': 954, 'lynmoor pl': 667, 'mons dr': 741, 'handel ave': 530, 'beverly cres': 163, 'manson st': 684, 'la salle st': 625, 'bywell crt': 212, 'lord st': 660, 'commercial dvrs n': 280, 'bentley st': 160, 'carrington st': 227, 'kinross st': 614, 'sennok cres': 931, 'thornton st': 1011, 'pantages lane': 815, 'promenade mews': 850, 'saddle lane': 902, 'walker st': 1143, 'sawmill cres': 912, 'wethersfield dr': 1173, 'montgomery st': 744, 'prescott st': 843, 'neal st': 779, 'tamarind dr': 995, 'logan st': 659, 'sawcut ave': 911, 'cordova dvrs': 296, 'courtenay st': 304, 'maclure mews': 672, 'grouse walk': 523, 'redbud lane': 872, 'brightwood pl': 194, 'copeland ave': 291, 'henry st': 546, 'lovers walk': 665, 'elk valley pl': 446, 'explorers walk': 455, 'centennial rd': 239, 'pullman porter st': 852, 'salt st': 908, 'blanche st': 169, 'langara ave': 635, 'interurban way': 571, 'toderick st': 1019, 'appledale pl': 105, 'strauss dr': 987, 'wallace cres': 1145, 'bella vista st': 156, 'dinmont ave': 328, 'bellevue dr': 157, '500n richards st': 56, 'munroe cres': 750, 'laval pl': 641, '1600l beach ave': 13, 'peveril ave': 829, 'eddington dr': 438, 'kitsilano dvrs': 619, 'wessex st': 1162, 'blood alley sq': 172, 'aqua dr': 106, 'jepson young lane': 584, '1600d beach ave': 12, 'quilchena pl': 861, 'ted_northe lane': 1002, 'devonshire cres': 325, 'malta ave': 679, 'e 69th ave': 413, 'n skeena st': 765, 'brakenridge st': 186, 'belmont ave': 158, 'mackie st': 671, 'trounce ally': 1029, 'doncaster way': 332, 'musqueam ave': 751, 'waterside ave': 1153, 'quayside crt': 856, 'w kent s ave': 1136, 'edinburgh st': 440, 'ravine st': 869, 'narvaez dr': 775, 'teakwood pl': 1001, 'homer mews': 554, 'school gr': 918, 'camano st': 213, 'n kootenay st': 759, 'malta pl': 680, 'elmhurst dr': 449, 'lancaster pl': 633, 'kersland dr': 604, 'melville st': 726, 'victoria dvrs': 1044, 'ironworkers memorial brdg': 574, 'new brighton rd': 782, 'townley st': 1023, 'somerset cres': 949, 'balmoral st': 137, 'galt st': 490, 'rumble ave': 899, 'james walk': 581, 'werks dr': 1161, '1500k e 5th ave': 11, 'lakewood st': 630, 'west point pl': 1169, 'stovold lane': 984, 'minto cres': 737, 'see em ia lane': 926, '1600m beach ave': 14, 'n kaslo st': 758, 'ghent lane': 498, 'pierview cres': 831, 'haida dr': 527, 'swansacre st': 991, 'thellaiwhaltun ave': 1009, 'ringwood ave': 880, 'rossland st': 895, 'ogden ave': 798, 'rogers st': 887, 'duff st': 337, 'pacific bl': 809, 'northern st': 791, 'semana cres': 928, 'n cassiar st': 755, 'tuaq dr': 1031, 'tytahun cres': 1035, 'hyack dr': 569, 'alder bay crt': 87, 'kempton pl': 602, 'kings lynn st': 612, 'brandywine pl': 187, '1777e e 5th ave': 19, 'collingwood pl': 276, 'coal harbour': 268, '400k carrall st': 49, 'rivergrass dr': 883, 'dogwood ave': 330, 'flagstaff pl': 471, 'aquitania pl': 108, 'begg st': 155, 'west pt grey': 1170, 'burrard street brdg': 207, 'rainier pl': 866, 'ortona cres': 806, 'gatineau pl': 494, 'maxine lane': 707, 'edgar cres': 439, 'colfax cres': 274, 'weymoor pl': 1174, 'celista dr': 237, 'cassiar conn': 231, 'falaise pl': 461, 'menchions mews': 727, 'foley st': 473, 'railspur ally': 864, 'w 15th th ave': 1057, '600k richards st': 63, 'milton st': 736, 'george st': 495, 'portside crt': 840, 'thrush pl': 1013, 'marine way': 692, 'beamish crt': 149, 'riel pl': 879, 'pat quinn way': 820, '6156t main st': 65, 'boatlift lane': 175, 'finch pl': 468, 'latta st': 638, 'lime st': 651, 'cresswell crt': 309, 'beatty walk': 152, 'eihu lane': 441, 'chess st': 252, 'atlas lane': 125, 'dease lane': 322, 'seagull pl': 922, 'st clair pl': 964, 'argyle dr': 115, 'marlin quay': 696, 'maddams st': 673, 'chaldecott st': 241, 'stewart st': 981, 'wylie st': 1188, 'kevin pl': 605, 'southlands pl': 955, 'lighthouse way': 648, 'granville brdg': 513, '2400k carolina st': 33, '370o w 5th ave': 48, 'ashburn st': 121, 'bayshore pl': 144, 'n lakewood dr': 761, 'cypress cres': 317, 'jericho beach': 586, 'w 77th ave': 1123, 'n victoria dr': 768, '2200k trafalgar st': 27, 'blue jay cres': 173, 'w kent n ave': 1135, 'dunbar loop': 341, '20o w 15th ave': 26, 'n boundary rd': 754, '659d moberly rd': 66, 'mcguigan ave': 714, 'oriole walk': 804, 'lions gt brdg': 656, 'charleson ave': 248, 'alexandra st': 92, 'east broadway ave': 434, 'sitka sq': 942, 'ironwork pass': 573, 'cambie street brdg': 215, 'burkholder dr': 202, 'si-lu dr': 940, 'stautlo ave': 979, 'maritime mews': 694, 'wolfe ave': 1184, 'kootenay st van': 624, 'river district crss': 882, 'trans canada hwy': 1025, 'the castings st': 1007, 'ke kait pl': 597, '52a powell st': 60, 'forge walk': 475, 'brigadoon ave': 193, 'perrot mews': 826, 'magnolia st': 674, '51b w cordova st': 58, '700k e cordova st': 70, 'algonquin mews': 93, 'w 7th th ave': 1125, '100o e pender st': 3, 'quadra st': 853, 'oak street brdg': 795, '197e e 19th ave': 23, 'knight street brdg': 621, 'hurst pl': 568, 'westbank pl': 1171, 'tolbooth': 1020, 'the crescent cres': 1008, 'lions gate brdg': 655, 'kielder crt': 607, 'brockton oval trl': 196, 'hazelton st': 539, '1688b main st': 16, 'si lu dr': 939, 'saint julien mews': 904, 'stikine pl': 982, '1698b venables st': 17, 'weaver crt': 1156, '3375a ontario st': 43, 'richelieu ave': 878, '29th ave station loop': 38, 'false creek': 462, 'cleadon crt': 265, '60o expo blvd': 64, 'east hastings st': 436, 'pinnacle crt': 835, '1107b lameys mill rd': 6, 'songbird mews': 951, 'dunbar dvrs': 340, '19e e hastings st': 24, 'w kent ave s': 1134, 'kinghorne mews': 610, 'e 66th ave': 411, 'hum-lu-sum dr': 565, 'capri cres': 221, 'rosemary brown lane': 892, 'jervis mews': 589, '442e e 15th ave': 52, 'lost lagoon': 662, 'lahb ave': 628, 'kelowna st': 601, 'coal harbour rd': 270, 'gwillim cres': 525, 'rebekah dr': 871, 'worthington pl': 1187, 'boyd dvrs': 183, 'scantlings ave': 915, '127w w 2nd ave': 9, 'valdez rd': 1038, 'vivaldi pl': 1048, 'west boulevard': 1165, 'shorepine walk': 938, '221a e georgia st': 29, 'riverwood way': 885, 'buscombe st': 209, 'arbutus rdge': 112, 'skipper pl': 945, 'chambord pl': 243, 'arbor ave': 109, 'stamps land land': 972, '99n w pender st': 76, 'mikong restaurant': 729, 'english bay': 450, 'w broadway ave #601': 1129, 'lennox pub': 646, 'park lane': 817, 'eveleigh st': 454, '676a leg in boot sq': 68, 'boathouse mews': 174, 'hastings-sunrise': 537, 'terry fox way': 1006, 'strathcona': 985, '5o e 30th ave': 62, 'jericho bch': 585, 'amberly pl': 97, 'pacific coliseum 100th n renfrew st': 811, 'cariboo st': 223, 'gaolers mews': 491, 'galiano rd': 489, 'glengyle st': 504, '35o se marine dr': 46, '522a keefer st': 59, '2674e e hastings st': 35, '317a cambie st': 40, '919a robson st': 74, 'kitsilano bch': 618, '329a powell st': 41, 'river district cross': 881, '33a w hastings st': 44, 'champlain mall': 245, 'isabel pl': 575, 'rose st': 890, 'morningstar cres': 745, 'foundry quay': 477, 'rupert ofrp': 900, '362a powell st': 47, 'hastings sunrise': 536, 'douglas cres': 333, 'west 4th avenue': 1163, '110o w 7th ave': 7, 'jericho dr': 588, '4571a fraser st': 53, 'starboard sq': 976, 'seawall walk': 923, 'alder bay walk': 88, '1000d beach ave': 1, 'kitsilano': 617, 'fannin ave': 463, 'granville island': 514, 'tamath cres': 996, 'webber ave': 1157, 'langford ave': 636, '2600k hemlock st': 34, 'foreshore walk': 474, '1o w cordova st': 25, 'dunsmuir via': 347, '34a w 12th ave': 45, 'leaside st': 643, '1633w w 8th ave': 15, '4800k gothard st': 54, 'cheam pl': 250, 'coopers mews': 290, 'borham cres': 180, 'antwerp lane': 103, 'toba pl': 1017, 'fountain way crt': 479, '1906w w 44th ave': 22, 'braeburn st': 184, 'cartier pl': 228, 'newcastle crt': 783, 'marchwood pl': 688, 'second beach': 924, '3365b victoria dr': 42, 'sasamat pl': 909, 'tolbooth ave': 1021, 'limewood pl': 652, '5656a fraser st': 61, 'west georgia st': 1168, '40o dunlevy ave': 50, '962a e 13th ave': 75, 'shawnee pl': 936, 'meadowland pl': 723, 'king edward ave': 609, 'boundary loop': 181, '516w w pender st': 57, 'coral reef pl': 294, '65e e cordova st': 67, 'portside dr': 841, 'waterleigh dr': 1151, 'blaydon crt': 170, 'heron pl': 549, 'mackenzie pl': 669, 'keystone st': 606, 'liard pl': 647, 'rolston cres': 888, 'bering ave': 161, 'access rd': 79, 'millstone st': 733, '1700e e hastings st': 18, '220o w broadway ave': 28, 'east 4th ave': 431, 'le roi st': 642, '14b e 7th ave': 10, 'mali ave': 677, '2227a w 14th ave': 30, '1901r powell st': 21, 'east 13th ave': 430, 'hummingbird pl': 567, '18o robson st': 20, '7507a main st': 72, '8o w 15th ave': 73, 'bridle path': 192, 'east cordova st': 435, '4255a arbutus st': 51, 'chickadee pl': 256, '2885b w king edward ave': 36, 'xxxx kingsway ave': 1189, '107e w cordova st': 5, 'brahms ave': 185, '104e e broadway ave': 4, 'eldon tr': 442, '118a w 14th ave': 8, 'suzhou ally': 988, '0k e cordova st': 0, 'feeder st': 464, 'burrard st-9th floor': 206, '222o kingsway ave': 31, 'e 67th ave': 412, '680b leg in boot sq': 69, '3133e e 17th ave': 39, 'fraser river': 482, 'fairview': 459, 'west broadway ave': 1166, 'marpole': 698, '4800k rupert st': 55, '1000marinaside cres': 2, 'st regis lane': 968, 'hollyhock lane': 553}\n"
          ]
        }
      ],
      "source": [
        "from sklearn.preprocessing import LabelEncoder\n",
        "labelencoder = LabelEncoder()\n",
        "y_le = crime_df['target']\n",
        "crime_df['target'] = labelencoder.fit_transform(crime_df['target'])\n",
        "label_map = dict(zip(y_le, crime_df['target']))\n",
        "print(label_map)\n",
        "\n",
        "\n",
        "y_le2 = crime_df['neighbourhood']\n",
        "crime_df['neighbourhood'] = labelencoder.fit_transform(crime_df['neighbourhood'])\n",
        "label_map2 = dict(zip(y_le2, crime_df['neighbourhood']))\n",
        "print(label_map2)\n",
        "\n",
        "\n",
        "y_le3 = crime_df['hundred_block']\n",
        "crime_df['hundred_block'] = labelencoder.fit_transform(crime_df['hundred_block'])\n",
        "label_map3 = dict(zip(y_le3, crime_df['hundred_block']))\n",
        "print(label_map3)\n",
        "\n",
        "# print(crime_df['TARGET'].value_counts())\n",
        "#label_map = dict(zip(crime_df['HUNDRED_BLOCK'], y_le))\n",
        "# crime_df['HUNDRED_BLOCK'] = labelencoder.fit_transform(crime_df['HUNDRED_BLOCK'])\n",
        "# crime_df['NEIGHBOURHOOD'] = labelencoder.fit_transform(crime_df['NEIGHBOURHOOD'])\n",
        "crime_df.head(5)\n",
        "\n",
        "\n",
        "with open('target_label.pkl', 'wb') as files:\n",
        "    pickle.dump(label_map, files)\n",
        "  \n",
        "with open('neighbourhood_label.pkl', 'wb') as files:\n",
        "    pickle.dump(label_map2, files)\n",
        "\n",
        "with open('hundred_block_label.pkl', 'wb') as files:\n",
        "    pickle.dump(label_map3, files)\n"
      ]
    },
    {
      "cell_type": "code",
      "execution_count": null,
      "metadata": {
        "colab": {
          "base_uri": "https://localhost:8080/"
        },
        "id": "lMba1DRpA1Xj",
        "outputId": "199b57d8-f86c-41d3-88cc-781d04969bc0"
      },
      "outputs": [
        {
          "output_type": "stream",
          "name": "stdout",
          "text": [
            "24\n",
            "1197\n"
          ]
        }
      ],
      "source": [
        "crime_df['time'] = crime_df['hour'] + (crime_df['minute']/60)\n",
        "crime_df.head()\n",
        "print(crime_df['neighbourhood'].nunique())\n",
        "print(crime_df['hundred_block'].nunique())"
      ]
    },
    {
      "cell_type": "code",
      "execution_count": null,
      "metadata": {
        "colab": {
          "base_uri": "https://localhost:8080/"
        },
        "id": "XSNL_SWBEQwt",
        "outputId": "c3a5bbce-64ff-4760-93ef-caed5d4fdcdd"
      },
      "outputs": [
        {
          "output_type": "stream",
          "name": "stdout",
          "text": [
            "   year  month  hour  neighbourhood  hundred_block\n",
            "0  2003      2    23             10           1118\n",
            "1  2015     11     5              3           1124\n",
            "2  2004      9    18              1           1130\n",
            "3  2010     12     8              1           1131\n",
            "4  2016      6    14             22           1131\n",
            "0    2\n",
            "1    2\n",
            "2    2\n",
            "3    2\n",
            "4    2\n",
            "Name: target, dtype: int64\n"
          ]
        }
      ],
      "source": [
        "X = crime_df[['year','month','hour','neighbourhood','hundred_block']]\n",
        "y = crime_df['target']\n",
        "print(X.head(5))\n",
        "print(y.head(5))"
      ]
    },
    {
      "cell_type": "code",
      "execution_count": null,
      "metadata": {
        "id": "2kNsw0u1QBpV"
      },
      "outputs": [],
      "source": [
        "from sklearn.model_selection import train_test_split\n",
        "X_train, X_test, y_train, y_test = train_test_split(X, y, test_size=0.33, random_state=42)"
      ]
    },
    {
      "cell_type": "markdown",
      "source": [
        "# **KNN Implementation**"
      ],
      "metadata": {
        "id": "d9W8CSnl16vI"
      }
    },
    {
      "cell_type": "code",
      "execution_count": null,
      "metadata": {
        "colab": {
          "base_uri": "https://localhost:8080/"
        },
        "id": "obWC_4w3QaJ1",
        "outputId": "9056fe30-c5ae-48b5-830a-38ded5cd538c"
      },
      "outputs": [
        {
          "output_type": "execute_result",
          "data": {
            "text/plain": [
              "KNeighborsClassifier(n_neighbors=25)"
            ]
          },
          "metadata": {},
          "execution_count": 312
        }
      ],
      "source": [
        "from sklearn.neighbors import KNeighborsClassifier\n",
        "knn = KNeighborsClassifier(n_neighbors=25)\n",
        "knn.fit(X_train, y_train)"
      ]
    },
    {
      "cell_type": "code",
      "execution_count": null,
      "metadata": {
        "id": "BlOEOsYRSNtr"
      },
      "outputs": [],
      "source": [
        "y_pred = knn.predict(X_test)"
      ]
    },
    {
      "cell_type": "code",
      "execution_count": null,
      "metadata": {
        "colab": {
          "base_uri": "https://localhost:8080/"
        },
        "id": "ErtMKoJ-UB9b",
        "outputId": "edd56361-e7db-43df-fec4-845995a0da5f"
      },
      "outputs": [
        {
          "output_type": "stream",
          "name": "stdout",
          "text": [
            "[[ 1810  4663  9798]\n",
            " [ 1367 18999  9513]\n",
            " [ 1898  8586 26958]]\n",
            "              precision    recall  f1-score   support\n",
            "\n",
            "           0       0.36      0.11      0.17     16271\n",
            "           1       0.59      0.64      0.61     29879\n",
            "           2       0.58      0.72      0.64     37442\n",
            "\n",
            "    accuracy                           0.57     83592\n",
            "   macro avg       0.51      0.49      0.48     83592\n",
            "weighted avg       0.54      0.57      0.54     83592\n",
            "\n"
          ]
        }
      ],
      "source": [
        "from sklearn.metrics import classification_report, confusion_matrix, accuracy_score\n",
        "print(confusion_matrix(y_test,y_pred))\n",
        "print(classification_report(y_test, y_pred))"
      ]
    },
    {
      "cell_type": "markdown",
      "source": [
        "\n"
      ],
      "metadata": {
        "id": "xUYTtWHXSQYP"
      }
    },
    {
      "cell_type": "code",
      "execution_count": null,
      "metadata": {
        "id": "TTxwtqWnUydQ"
      },
      "outputs": [],
      "source": [
        "print(set(y_test) - set(y_pred))\n",
        "print(knn.score(X_test, y_test))"
      ]
    },
    {
      "cell_type": "code",
      "source": [
        "with open('KNNmodel.pkl', 'wb') as files:\n",
        "    pickle.dump(knn, files)\n",
        "    "
      ],
      "metadata": {
        "id": "kj50wbWbfigl"
      },
      "execution_count": null,
      "outputs": []
    },
    {
      "cell_type": "code",
      "source": [
        "pickled_model = pickle.load(open('model.pkl', 'rb'))\n",
        "pickled_target_label = pickle.load(open('target_label.pkl', 'rb'))\n",
        "pickled_neighbourhood_label = pickle.load(open('neighbourhood_label.pkl', 'rb'))\n",
        "pickled_hundred_block_label = pickle.load(open('hundred_block_label.pkl', 'rb'))"
      ],
      "metadata": {
        "id": "A17FD1X1n8sT"
      },
      "execution_count": null,
      "outputs": []
    },
    {
      "cell_type": "code",
      "source": [
        "predicted_label = pickled_model.predict([[2019, 10, 23, pickled_neighbourhood_label['hastings-sunrise'], pickled_hundred_block_label['windermere st']]])\n",
        "\n",
        "key = [k for k, v in label_map.items() if v == predicted_label]\n",
        "print(key)\n"
      ],
      "metadata": {
        "colab": {
          "base_uri": "https://localhost:8080/"
        },
        "id": "zq3Kfe7TgO1p",
        "outputId": "ac7d397c-cc84-40a6-c46d-359e357f8103"
      },
      "execution_count": null,
      "outputs": [
        {
          "output_type": "stream",
          "name": "stdout",
          "text": [
            "['theft from vehicle']\n"
          ]
        },
        {
          "output_type": "stream",
          "name": "stderr",
          "text": [
            "/usr/local/lib/python3.7/dist-packages/sklearn/base.py:451: UserWarning: X does not have valid feature names, but KNeighborsClassifier was fitted with feature names\n",
            "  \"X does not have valid feature names, but\"\n"
          ]
        }
      ]
    },
    {
      "cell_type": "markdown",
      "source": [
        "# **Random Forest**"
      ],
      "metadata": {
        "id": "qJ9EQ4gi2OA_"
      }
    },
    {
      "cell_type": "code",
      "execution_count": null,
      "metadata": {
        "id": "aHlyhYKZa41o",
        "colab": {
          "base_uri": "https://localhost:8080/"
        },
        "outputId": "68b61307-4313-46ba-b2ff-b9c2dcc0e971"
      },
      "outputs": [
        {
          "output_type": "execute_result",
          "data": {
            "text/plain": [
              "RandomForestClassifier(n_estimators=10)"
            ]
          },
          "metadata": {},
          "execution_count": 267
        }
      ],
      "source": [
        "from sklearn.ensemble import RandomForestClassifier\n",
        "rfm = RandomForestClassifier(n_estimators = 10)\n",
        "rfm.fit(X_train, y_train)"
      ]
    },
    {
      "cell_type": "code",
      "source": [
        "y_pred = rfm.predict(X_test)"
      ],
      "metadata": {
        "id": "nenryIzx3EH5"
      },
      "execution_count": null,
      "outputs": []
    },
    {
      "cell_type": "code",
      "source": [
        "from sklearn.metrics import classification_report, confusion_matrix, accuracy_score\n",
        "print(confusion_matrix(y_test,y_pred))\n",
        "print(classification_report(y_test, y_pred))"
      ],
      "metadata": {
        "colab": {
          "base_uri": "https://localhost:8080/"
        },
        "id": "hZKu7zQQ3L_B",
        "outputId": "3fa902ea-eea3-4d72-a7f8-e478fc569063"
      },
      "execution_count": null,
      "outputs": [
        {
          "output_type": "stream",
          "name": "stdout",
          "text": [
            "[[ 3773  4551  7947]\n",
            " [ 3861 16752  9266]\n",
            " [ 5860  8892 22690]]\n",
            "              precision    recall  f1-score   support\n",
            "\n",
            "           0       0.28      0.23      0.25     16271\n",
            "           1       0.55      0.56      0.56     29879\n",
            "           2       0.57      0.61      0.59     37442\n",
            "\n",
            "    accuracy                           0.52     83592\n",
            "   macro avg       0.47      0.47      0.47     83592\n",
            "weighted avg       0.51      0.52      0.51     83592\n",
            "\n"
          ]
        }
      ]
    },
    {
      "cell_type": "code",
      "source": [
        "rfm.score(X_test,y_test)"
      ],
      "metadata": {
        "colab": {
          "base_uri": "https://localhost:8080/"
        },
        "id": "FbKwHZ3B20ir",
        "outputId": "2a461fe3-6656-4e01-b880-ba4a1d1ca8b7"
      },
      "execution_count": null,
      "outputs": [
        {
          "output_type": "execute_result",
          "data": {
            "text/plain": [
              "0.5169753086419753"
            ]
          },
          "metadata": {},
          "execution_count": 270
        }
      ]
    }
  ],
  "metadata": {
    "colab": {
      "provenance": []
    },
    "kernelspec": {
      "display_name": "Python 3",
      "name": "python3"
    },
    "language_info": {
      "name": "python"
    }
  },
  "nbformat": 4,
  "nbformat_minor": 0
}